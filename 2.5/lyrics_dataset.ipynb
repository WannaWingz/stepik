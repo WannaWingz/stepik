{
 "cells": [
  {
   "cell_type": "code",
   "execution_count": 1,
   "metadata": {
    "collapsed": true,
    "pycharm": {
     "is_executing": false
    }
   },
   "outputs": [],
   "source": [
    "import pandas as pd\n",
    "from sklearn.tree import DecisionTreeClassifier\n",
    "from sklearn.metrics import precision_score"
   ]
  },
  {
   "cell_type": "code",
   "execution_count": 2,
   "outputs": [],
   "source": [
    "import os\n",
    "os.environ[\"PATH\"] += os.pathsep + 'C:/Program Files (x86)/release/bin/'\n",
    "from sklearn import tree\n",
    "from sklearn.model_selection import train_test_split\n",
    "\n",
    "import pandas as pd\n",
    "import matplotlib.pyplot as plt\n",
    "import seaborn as sns\n",
    "%matplotlib inline\n"
   ],
   "metadata": {
    "collapsed": false,
    "pycharm": {
     "name": "#%%\n",
     "is_executing": false
    }
   }
  },
  {
   "cell_type": "code",
   "execution_count": 3,
   "outputs": [
    {
     "data": {
      "text/plain": "<IPython.core.display.HTML object>",
      "text/html": "<style>svg(width:70% !important;height:70% !important;)</style>"
     },
     "metadata": {},
     "output_type": "execute_result",
     "execution_count": 3
    }
   ],
   "source": [
    "from sklearn.model_selection import cross_val_score\n",
    "from IPython.display import HTML\n",
    "from graphviz import Source\n",
    "from IPython.display import display\n",
    "from IPython.display import SVG\n",
    "style=\"<style>svg(width:70% !important;height:70% !important;)</style>\"\n",
    "HTML(style)\n",
    "\n",
    "\n"
   ],
   "metadata": {
    "collapsed": false,
    "pycharm": {
     "name": "#%%\n",
     "is_executing": false
    }
   }
  },
  {
   "cell_type": "code",
   "execution_count": 4,
   "outputs": [],
   "source": [
    "df_lyrics = pd.read_csv('lyrics.csv')\n"
   ],
   "metadata": {
    "collapsed": false,
    "pycharm": {
     "name": "#%%\n",
     "is_executing": false
    }
   }
  },
  {
   "cell_type": "code",
   "execution_count": 5,
   "outputs": [],
   "source": [
    "df_songs = pd.read_csv('songs.csv')"
   ],
   "metadata": {
    "collapsed": false,
    "pycharm": {
     "name": "#%%\n",
     "is_executing": false
    }
   }
  },
  {
   "cell_type": "code",
   "execution_count": 6,
   "outputs": [],
   "source": [
    "# Поупражняемся в расчётах precision. В задании даны переменные, содержащие \n",
    "# информацию о песнях и артистах - X_train, y_train, X_test и y_test. Исходно в \n",
    "# датасэтах содержались тексты песен, но Decision Tree работает с категориальными и числовыми \n",
    "# переменными, а текст это... текст. Поэтому его необходимо преобразовать в понятную для модели\n",
    "# форму. В данном случае для каждой песни просто посчитаны длина и количество некоторых знаков \n",
    "# пунктуации.\n",
    "# Обучите модель на тренировочных данных, предскажите авторов для тестовых и поместите в переменную predictions. \\\n",
    "# Затемпосчитайте precision score на предсказаниях и y_test, укажите параметр average='micro', \n",
    "# и сохраните результат в переменную precision.\n",
    "\n",
    "# 1. Создаешь экземпляр класса DecisionTreeClassifier\n",
    "# \n",
    "# 2. Используешь метод fit у созданного экземпляра с аргументами X_train, y_train\n",
    "# \n",
    "# 3. Используешь метод predict у созданного экземпляра с аргументом X_test, присваивая результат переменной predictions\n",
    "# \n",
    "# 4. Вызываешь функцию precision_score с аргументами y_test, predictions и average\n",
    "# \n",
    "# 5. Радуешься "
   ],
   "metadata": {
    "collapsed": false,
    "pycharm": {
     "name": "#%%\n",
     "is_executing": false
    }
   }
  },
  {
   "cell_type": "code",
   "execution_count": 12,
   "outputs": [
    {
     "data": {
      "text/plain": "   index             song  year           artist genre  \\\n0      0        ego-remix  2009  beyonce-knowles   Pop   \n1      1     then-tell-me  2009  beyonce-knowles   Pop   \n2      2          honesty  2009  beyonce-knowles   Pop   \n3      3  you-are-my-rock  2009  beyonce-knowles   Pop   \n4      4    black-culture  2009  beyonce-knowles   Pop   \n\n                                              lyrics  \n0  Oh baby, how you doing?\\nYou know I'm gonna cu...  \n1  playin' everything so easy,\\nit's like you see...  \n2  If you search\\nFor tenderness\\nIt isn't hard t...  \n3  Oh oh oh I, oh oh oh I\\n[Verse 1:]\\nIf I wrote...  \n4  Party the people, the people the party it's po...  ",
      "text/html": "<div>\n<style scoped>\n    .dataframe tbody tr th:only-of-type {\n        vertical-align: middle;\n    }\n\n    .dataframe tbody tr th {\n        vertical-align: top;\n    }\n\n    .dataframe thead th {\n        text-align: right;\n    }\n</style>\n<table border=\"1\" class=\"dataframe\">\n  <thead>\n    <tr style=\"text-align: right;\">\n      <th></th>\n      <th>index</th>\n      <th>song</th>\n      <th>year</th>\n      <th>artist</th>\n      <th>genre</th>\n      <th>lyrics</th>\n    </tr>\n  </thead>\n  <tbody>\n    <tr>\n      <th>0</th>\n      <td>0</td>\n      <td>ego-remix</td>\n      <td>2009</td>\n      <td>beyonce-knowles</td>\n      <td>Pop</td>\n      <td>Oh baby, how you doing?\\nYou know I'm gonna cu...</td>\n    </tr>\n    <tr>\n      <th>1</th>\n      <td>1</td>\n      <td>then-tell-me</td>\n      <td>2009</td>\n      <td>beyonce-knowles</td>\n      <td>Pop</td>\n      <td>playin' everything so easy,\\nit's like you see...</td>\n    </tr>\n    <tr>\n      <th>2</th>\n      <td>2</td>\n      <td>honesty</td>\n      <td>2009</td>\n      <td>beyonce-knowles</td>\n      <td>Pop</td>\n      <td>If you search\\nFor tenderness\\nIt isn't hard t...</td>\n    </tr>\n    <tr>\n      <th>3</th>\n      <td>3</td>\n      <td>you-are-my-rock</td>\n      <td>2009</td>\n      <td>beyonce-knowles</td>\n      <td>Pop</td>\n      <td>Oh oh oh I, oh oh oh I\\n[Verse 1:]\\nIf I wrote...</td>\n    </tr>\n    <tr>\n      <th>4</th>\n      <td>4</td>\n      <td>black-culture</td>\n      <td>2009</td>\n      <td>beyonce-knowles</td>\n      <td>Pop</td>\n      <td>Party the people, the people the party it's po...</td>\n    </tr>\n  </tbody>\n</table>\n</div>"
     },
     "metadata": {},
     "output_type": "execute_result",
     "execution_count": 12
    }
   ],
   "source": [
    "df_lyrics.head()"
   ],
   "metadata": {
    "collapsed": false,
    "pycharm": {
     "name": "#%%\n",
     "is_executing": false
    }
   }
  },
  {
   "cell_type": "code",
   "execution_count": 11,
   "outputs": [
    {
     "data": {
      "text/plain": "                   song  year          artist    genre  \\\n0            the-ownerz  2007       gangstarr  Hip-Hop   \n1  dead-sound-of-misery  2006  blind-guardian    Metal   \n2         modred-s-song  2006  blind-guardian    Metal   \n3        the-ninth-wave  2015  blind-guardian    Metal   \n4                skills  2014       gangstarr  Hip-Hop   \n\n                                              lyrics  length  commas  \\\n0  \"One-two..\"\\n\"One-two, shots to the chin.. kno...    1300      24   \n1  It's dark\\nLet's do it now\\nBring in the siren...    1566       0   \n2  I've lost my battle before it starts\\nmy first...     996       1   \n3  As dark night embraces\\nWe are the nation\\nI w...    2868       5   \n4  Skills, skills, skills\\n\"My Microphone\"\\n\"It's...    3351      22   \n\n   exclamations  colons  hyphens  \n0             5       0       11  \n1             0       0        0  \n2             0       1        0  \n3             0       0        0  \n4             0       0        3  ",
      "text/html": "<div>\n<style scoped>\n    .dataframe tbody tr th:only-of-type {\n        vertical-align: middle;\n    }\n\n    .dataframe tbody tr th {\n        vertical-align: top;\n    }\n\n    .dataframe thead th {\n        text-align: right;\n    }\n</style>\n<table border=\"1\" class=\"dataframe\">\n  <thead>\n    <tr style=\"text-align: right;\">\n      <th></th>\n      <th>song</th>\n      <th>year</th>\n      <th>artist</th>\n      <th>genre</th>\n      <th>lyrics</th>\n      <th>length</th>\n      <th>commas</th>\n      <th>exclamations</th>\n      <th>colons</th>\n      <th>hyphens</th>\n    </tr>\n  </thead>\n  <tbody>\n    <tr>\n      <th>0</th>\n      <td>the-ownerz</td>\n      <td>2007</td>\n      <td>gangstarr</td>\n      <td>Hip-Hop</td>\n      <td>\"One-two..\"\\n\"One-two, shots to the chin.. kno...</td>\n      <td>1300</td>\n      <td>24</td>\n      <td>5</td>\n      <td>0</td>\n      <td>11</td>\n    </tr>\n    <tr>\n      <th>1</th>\n      <td>dead-sound-of-misery</td>\n      <td>2006</td>\n      <td>blind-guardian</td>\n      <td>Metal</td>\n      <td>It's dark\\nLet's do it now\\nBring in the siren...</td>\n      <td>1566</td>\n      <td>0</td>\n      <td>0</td>\n      <td>0</td>\n      <td>0</td>\n    </tr>\n    <tr>\n      <th>2</th>\n      <td>modred-s-song</td>\n      <td>2006</td>\n      <td>blind-guardian</td>\n      <td>Metal</td>\n      <td>I've lost my battle before it starts\\nmy first...</td>\n      <td>996</td>\n      <td>1</td>\n      <td>0</td>\n      <td>1</td>\n      <td>0</td>\n    </tr>\n    <tr>\n      <th>3</th>\n      <td>the-ninth-wave</td>\n      <td>2015</td>\n      <td>blind-guardian</td>\n      <td>Metal</td>\n      <td>As dark night embraces\\nWe are the nation\\nI w...</td>\n      <td>2868</td>\n      <td>5</td>\n      <td>0</td>\n      <td>0</td>\n      <td>0</td>\n    </tr>\n    <tr>\n      <th>4</th>\n      <td>skills</td>\n      <td>2014</td>\n      <td>gangstarr</td>\n      <td>Hip-Hop</td>\n      <td>Skills, skills, skills\\n\"My Microphone\"\\n\"It's...</td>\n      <td>3351</td>\n      <td>22</td>\n      <td>0</td>\n      <td>0</td>\n      <td>3</td>\n    </tr>\n  </tbody>\n</table>\n</div>"
     },
     "metadata": {},
     "output_type": "execute_result",
     "execution_count": 11
    }
   ],
   "source": [
    "df_songs.head()"
   ],
   "metadata": {
    "collapsed": false,
    "pycharm": {
     "name": "#%%\n",
     "is_executing": false
    }
   }
  },
  {
   "cell_type": "code",
   "execution_count": null,
   "outputs": [],
   "source": [
    "\n",
    "clf =  tree.DecisionTreeClassifier(criterion='entropy')\n",
    "X_train, X_test, y_train, y_test = train_test_split(X,y,test_size=0.33,random_state=42)\n",
    "precision_score()\n"
   ],
   "metadata": {
    "collapsed": false,
    "pycharm": {
     "name": "#%%\n"
    }
   }
  }
 ],
 "metadata": {
  "kernelspec": {
   "display_name": "Python 3",
   "language": "python",
   "name": "python3"
  },
  "language_info": {
   "codemirror_mode": {
    "name": "ipython",
    "version": 2
   },
   "file_extension": ".py",
   "mimetype": "text/x-python",
   "name": "python",
   "nbconvert_exporter": "python",
   "pygments_lexer": "ipython2",
   "version": "2.7.6"
  },
  "pycharm": {
   "stem_cell": {
    "cell_type": "raw",
    "source": [],
    "metadata": {
     "collapsed": false
    }
   }
  }
 },
 "nbformat": 4,
 "nbformat_minor": 0
}